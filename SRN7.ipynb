{
 "cells": [
  {
   "cell_type": "code",
   "execution_count": 1,
   "id": "d7f73a3d-ec55-437f-a376-fe5aa88f2b83",
   "metadata": {},
   "outputs": [
    {
     "name": "stdin",
     "output_type": "stream",
     "text": [
      "Enter the number of queens (N):  2\n"
     ]
    },
    {
     "name": "stdout",
     "output_type": "stream",
     "text": [
      "No solution exists.\n"
     ]
    }
   ],
   "source": [
    "def is_safe(board, row, col):\n",
    "    \"\"\"\n",
    "    Check if it's safe to place a queen at board[row][col].\n",
    "    This checks the row to the left, the upper-left diagonal,\n",
    "    and the lower-left diagonal.\n",
    "    \"\"\"\n",
    "    n = len(board)\n",
    "\n",
    "    # Check this row on the left side\n",
    "    for i in range(col):\n",
    "        if board[row][i] == 1:\n",
    "            return False\n",
    "\n",
    "    # Check upper diagonal on the left side\n",
    "    i, j = row, col\n",
    "    while i >= 0 and j >= 0:\n",
    "        if board[i][j] == 1:\n",
    "            return False\n",
    "        i -= 1\n",
    "        j -= 1\n",
    "\n",
    "    # Check lower diagonal on the left side\n",
    "    i, j = row, col\n",
    "    while i < n and j >= 0:\n",
    "        if board[i][j] == 1:\n",
    "            return False\n",
    "        i += 1\n",
    "        j -= 1\n",
    "\n",
    "    return True\n",
    "\n",
    "\n",
    "def solve_n_queens_util(board, col, solutions):\n",
    "    \"\"\"\n",
    "    Recursive utility function that uses backtracking to find\n",
    "    all possible N-Queens solutions.\n",
    "    \"\"\"\n",
    "    n = len(board)\n",
    "\n",
    "    # Base case: all queens are placed\n",
    "    if col >= n:\n",
    "        # Store a copy of the current solution\n",
    "        solution = []\n",
    "        for r in board:\n",
    "            solution.append(\"\".join(\"Q\" if x == 1 else \".\" for x in r))\n",
    "        solutions.append(solution)\n",
    "        return\n",
    "\n",
    "    # Try placing the queen in all rows one by one\n",
    "    for i in range(n):\n",
    "        if is_safe(board, i, col):\n",
    "            board[i][col] = 1  # Place queen\n",
    "\n",
    "            solve_n_queens_util(board, col + 1, solutions)\n",
    "\n",
    "            board[i][col] = 0  # Backtrack\n",
    "\n",
    "\n",
    "def solve_n_queens(n):\n",
    "    \"\"\"\n",
    "    Solves the N-Queens problem and prints all possible solutions.\n",
    "    \"\"\"\n",
    "    board = [[0 for _ in range(n)] for _ in range(n)]\n",
    "    solutions = []\n",
    "\n",
    "    solve_n_queens_util(board, 0, solutions)\n",
    "\n",
    "    if not solutions:\n",
    "        print(\"No solution exists.\")\n",
    "    else:\n",
    "        print(f\"\\nTotal solutions for {n}-Queens: {len(solutions)}\\n\")\n",
    "        for idx, sol in enumerate(solutions, 1):\n",
    "            print(f\"Solution {idx}:\")\n",
    "            for row in sol:\n",
    "                print(row)\n",
    "            print()\n",
    "\n",
    "\n",
    "# Example: solve for N = 4\n",
    "if __name__ == \"__main__\":\n",
    "    n = int(input(\"Enter the number of queens (N): \"))\n",
    "    solve_n_queens(n)\n"
   ]
  },
  {
   "cell_type": "code",
   "execution_count": null,
   "id": "e76583b3-5d84-404c-9ab8-ea03ee546a64",
   "metadata": {},
   "outputs": [],
   "source": []
  }
 ],
 "metadata": {
  "kernelspec": {
   "display_name": "Python 3 (ipykernel)",
   "language": "python",
   "name": "python3"
  },
  "language_info": {
   "codemirror_mode": {
    "name": "ipython",
    "version": 3
   },
   "file_extension": ".py",
   "mimetype": "text/x-python",
   "name": "python",
   "nbconvert_exporter": "python",
   "pygments_lexer": "ipython3",
   "version": "3.13.5"
  }
 },
 "nbformat": 4,
 "nbformat_minor": 5
}
